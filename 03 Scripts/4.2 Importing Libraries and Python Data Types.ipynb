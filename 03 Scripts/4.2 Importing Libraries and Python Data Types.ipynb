{
 "cells": [
  {
   "cell_type": "markdown",
   "id": "8fd24418",
   "metadata": {},
   "source": [
    "# 4.2 Importing Libraries and Python Data Types"
   ]
  },
  {
   "cell_type": "markdown",
   "id": "f31e3e78",
   "metadata": {},
   "source": [
    "# This script contains:\n",
    "\n",
    "## 01. Importing Libraries\n",
    "## 02. Data Types"
   ]
  },
  {
   "cell_type": "markdown",
   "id": "c3b45ff0",
   "metadata": {},
   "source": [
    "### 01. Importing Libraries"
   ]
  },
  {
   "cell_type": "code",
   "execution_count": 1,
   "id": "2284b522",
   "metadata": {},
   "outputs": [],
   "source": [
    "# Import libraries\n",
    "import pandas as pd\n",
    "import numpy as np\n",
    "import os"
   ]
  },
  {
   "cell_type": "markdown",
   "id": "bffe5cd5",
   "metadata": {},
   "source": [
    "### 02. Data Types"
   ]
  },
  {
   "cell_type": "code",
   "execution_count": 33,
   "id": "9500b673",
   "metadata": {},
   "outputs": [],
   "source": [
    "a=50"
   ]
  },
  {
   "cell_type": "code",
   "execution_count": 34,
   "id": "b4dc0c06",
   "metadata": {},
   "outputs": [
    {
     "data": {
      "text/plain": [
       "50"
      ]
     },
     "execution_count": 34,
     "metadata": {},
     "output_type": "execute_result"
    }
   ],
   "source": [
    "a"
   ]
  },
  {
   "cell_type": "code",
   "execution_count": 35,
   "id": "ce37dd00",
   "metadata": {},
   "outputs": [],
   "source": [
    "b=100"
   ]
  },
  {
   "cell_type": "code",
   "execution_count": 36,
   "id": "50530a14",
   "metadata": {},
   "outputs": [
    {
     "data": {
      "text/plain": [
       "100"
      ]
     },
     "execution_count": 36,
     "metadata": {},
     "output_type": "execute_result"
    }
   ],
   "source": [
    "b"
   ]
  },
  {
   "cell_type": "code",
   "execution_count": 37,
   "id": "a26d9477",
   "metadata": {},
   "outputs": [],
   "source": [
    "c=200"
   ]
  },
  {
   "cell_type": "code",
   "execution_count": 38,
   "id": "315c6ed4",
   "metadata": {},
   "outputs": [
    {
     "data": {
      "text/plain": [
       "200"
      ]
     },
     "execution_count": 38,
     "metadata": {},
     "output_type": "execute_result"
    }
   ],
   "source": [
    "c"
   ]
  },
  {
   "cell_type": "code",
   "execution_count": 40,
   "id": "cc1ea50d",
   "metadata": {},
   "outputs": [
    {
     "data": {
      "text/plain": [
       "100"
      ]
     },
     "execution_count": 40,
     "metadata": {},
     "output_type": "execute_result"
    }
   ],
   "source": [
    "a+a"
   ]
  },
  {
   "cell_type": "code",
   "execution_count": 41,
   "id": "0fb8a4ff",
   "metadata": {},
   "outputs": [
    {
     "data": {
      "text/plain": [
       "100"
      ]
     },
     "execution_count": 41,
     "metadata": {},
     "output_type": "execute_result"
    }
   ],
   "source": [
    "c-b"
   ]
  },
  {
   "cell_type": "code",
   "execution_count": 42,
   "id": "ffd14e6f",
   "metadata": {},
   "outputs": [
    {
     "data": {
      "text/plain": [
       "100"
      ]
     },
     "execution_count": 42,
     "metadata": {},
     "output_type": "execute_result"
    }
   ],
   "source": [
    "a+50"
   ]
  },
  {
   "cell_type": "code",
   "execution_count": 43,
   "id": "397c805d",
   "metadata": {},
   "outputs": [],
   "source": [
    "d=10.5"
   ]
  },
  {
   "cell_type": "code",
   "execution_count": 44,
   "id": "c715451f",
   "metadata": {},
   "outputs": [
    {
     "data": {
      "text/plain": [
       "10.5"
      ]
     },
     "execution_count": 44,
     "metadata": {},
     "output_type": "execute_result"
    }
   ],
   "source": [
    "d"
   ]
  },
  {
   "cell_type": "code",
   "execution_count": 45,
   "id": "6f1ff806",
   "metadata": {},
   "outputs": [],
   "source": [
    "e=2.6"
   ]
  },
  {
   "cell_type": "code",
   "execution_count": 47,
   "id": "a48a7ac0",
   "metadata": {},
   "outputs": [
    {
     "data": {
      "text/plain": [
       "2.6"
      ]
     },
     "execution_count": 47,
     "metadata": {},
     "output_type": "execute_result"
    }
   ],
   "source": [
    "e"
   ]
  },
  {
   "cell_type": "code",
   "execution_count": 48,
   "id": "87ae678b",
   "metadata": {},
   "outputs": [
    {
     "data": {
      "text/plain": [
       "4.038461538461538"
      ]
     },
     "execution_count": 48,
     "metadata": {},
     "output_type": "execute_result"
    }
   ],
   "source": [
    "d/e"
   ]
  },
  {
   "cell_type": "code",
   "execution_count": 49,
   "id": "d398b357",
   "metadata": {},
   "outputs": [],
   "source": [
    "f='C'"
   ]
  },
  {
   "cell_type": "code",
   "execution_count": 50,
   "id": "21b138ad",
   "metadata": {},
   "outputs": [
    {
     "data": {
      "text/plain": [
       "'C'"
      ]
     },
     "execution_count": 50,
     "metadata": {},
     "output_type": "execute_result"
    }
   ],
   "source": [
    "f"
   ]
  },
  {
   "cell_type": "code",
   "execution_count": 51,
   "id": "521559a5",
   "metadata": {},
   "outputs": [],
   "source": [
    "g='O'"
   ]
  },
  {
   "cell_type": "code",
   "execution_count": 52,
   "id": "9cf94c90",
   "metadata": {},
   "outputs": [
    {
     "data": {
      "text/plain": [
       "'O'"
      ]
     },
     "execution_count": 52,
     "metadata": {},
     "output_type": "execute_result"
    }
   ],
   "source": [
    "g"
   ]
  },
  {
   "cell_type": "code",
   "execution_count": 53,
   "id": "28732877",
   "metadata": {},
   "outputs": [],
   "source": [
    "h='W'"
   ]
  },
  {
   "cell_type": "code",
   "execution_count": 54,
   "id": "254e9198",
   "metadata": {},
   "outputs": [
    {
     "data": {
      "text/plain": [
       "'W'"
      ]
     },
     "execution_count": 54,
     "metadata": {},
     "output_type": "execute_result"
    }
   ],
   "source": [
    "h"
   ]
  },
  {
   "cell_type": "code",
   "execution_count": 55,
   "id": "ca2eda11",
   "metadata": {},
   "outputs": [
    {
     "data": {
      "text/plain": [
       "'COW'"
      ]
     },
     "execution_count": 55,
     "metadata": {},
     "output_type": "execute_result"
    }
   ],
   "source": [
    "f+g+h"
   ]
  },
  {
   "cell_type": "code",
   "execution_count": 64,
   "id": "c31f3a95",
   "metadata": {},
   "outputs": [],
   "source": [
    "i='Hi, my name is '"
   ]
  },
  {
   "cell_type": "code",
   "execution_count": 65,
   "id": "9fc1ddb8",
   "metadata": {},
   "outputs": [
    {
     "data": {
      "text/plain": [
       "'Hi, my name is '"
      ]
     },
     "execution_count": 65,
     "metadata": {},
     "output_type": "execute_result"
    }
   ],
   "source": [
    "i"
   ]
  },
  {
   "cell_type": "code",
   "execution_count": 66,
   "id": "5ff79773",
   "metadata": {},
   "outputs": [],
   "source": [
    "j='Sanya. What is yours?'"
   ]
  },
  {
   "cell_type": "code",
   "execution_count": 67,
   "id": "4247ee3c",
   "metadata": {},
   "outputs": [
    {
     "data": {
      "text/plain": [
       "'Sanya. What is yours?'"
      ]
     },
     "execution_count": 67,
     "metadata": {},
     "output_type": "execute_result"
    }
   ],
   "source": [
    "j"
   ]
  },
  {
   "cell_type": "code",
   "execution_count": 68,
   "id": "ece7a1a2",
   "metadata": {},
   "outputs": [
    {
     "data": {
      "text/plain": [
       "'Hi, my name is Sanya. What is yours?'"
      ]
     },
     "execution_count": 68,
     "metadata": {},
     "output_type": "execute_result"
    }
   ],
   "source": [
    "i+j"
   ]
  },
  {
   "cell_type": "code",
   "execution_count": 69,
   "id": "2ed80996",
   "metadata": {},
   "outputs": [],
   "source": [
    "k=f+g+h"
   ]
  },
  {
   "cell_type": "code",
   "execution_count": 70,
   "id": "79580ef3",
   "metadata": {},
   "outputs": [
    {
     "data": {
      "text/plain": [
       "'COW'"
      ]
     },
     "execution_count": 70,
     "metadata": {},
     "output_type": "execute_result"
    }
   ],
   "source": [
    "k"
   ]
  },
  {
   "cell_type": "code",
   "execution_count": 71,
   "id": "0365b5e4",
   "metadata": {},
   "outputs": [
    {
     "data": {
      "text/plain": [
       "'COWCOWCOWCOWCOWCOWCOWCOWCOWCOWCOWCOWCOWCOWCOWCOWCOWCOWCOWCOWCOWCOWCOWCOWCOWCOWCOWCOWCOWCOWCOWCOWCOWCOWCOWCOWCOWCOWCOWCOWCOWCOWCOWCOWCOWCOWCOWCOWCOWCOWCOWCOWCOWCOWCOWCOWCOWCOWCOWCOWCOWCOWCOWCOWCOWCOWCOWCOWCOWCOWCOWCOWCOWCOWCOWCOWCOWCOWCOWCOWCOWCOWCOWCOWCOWCOWCOWCOWCOWCOWCOWCOWCOWCOWCOWCOWCOWCOWCOWCOW'"
      ]
     },
     "execution_count": 71,
     "metadata": {},
     "output_type": "execute_result"
    }
   ],
   "source": [
    "k*100"
   ]
  },
  {
   "cell_type": "code",
   "execution_count": null,
   "id": "8d8230ad",
   "metadata": {},
   "outputs": [],
   "source": []
  }
 ],
 "metadata": {
  "kernelspec": {
   "display_name": "Python 3 (ipykernel)",
   "language": "python",
   "name": "python3"
  },
  "language_info": {
   "codemirror_mode": {
    "name": "ipython",
    "version": 3
   },
   "file_extension": ".py",
   "mimetype": "text/x-python",
   "name": "python",
   "nbconvert_exporter": "python",
   "pygments_lexer": "ipython3",
   "version": "3.10.9"
  }
 },
 "nbformat": 4,
 "nbformat_minor": 5
}
